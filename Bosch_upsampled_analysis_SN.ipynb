{
 "cells": [
  {
   "cell_type": "markdown",
   "metadata": {},
   "source": [
    "<h3> Build a model on the upsampled dataset which includes all the positive class and 25K from the negative class"
   ]
  },
  {
   "cell_type": "code",
   "execution_count": 1,
   "metadata": {},
   "outputs": [],
   "source": [
    "import numpy as np\n",
    "import pandas as pd\n",
    "from matplotlib import pyplot as plt\n",
    "import seaborn as sns\n",
    "from sklearn.preprocessing import LabelBinarizer, LabelEncoder, StandardScaler\n",
    "import missingno as msno\n",
    "import datetime\n",
    "from sklearn.model_selection import train_test_split, GridSearchCV\n",
    "from sklearn.ensemble import RandomForestRegressor, RandomForestClassifier\n",
    "from sklearn.metrics import confusion_matrix, f1_score, classification_report, recall_score, precision_score\n",
    "from datetime import timedelta\n",
    "import itertools\n",
    "%matplotlib inline"
   ]
  },
  {
   "cell_type": "code",
   "execution_count": 2,
   "metadata": {},
   "outputs": [
    {
     "data": {
      "text/html": [
       "<div>\n",
       "<style scoped>\n",
       "    .dataframe tbody tr th:only-of-type {\n",
       "        vertical-align: middle;\n",
       "    }\n",
       "\n",
       "    .dataframe tbody tr th {\n",
       "        vertical-align: top;\n",
       "    }\n",
       "\n",
       "    .dataframe thead th {\n",
       "        text-align: right;\n",
       "    }\n",
       "</style>\n",
       "<table border=\"1\" class=\"dataframe\">\n",
       "  <thead>\n",
       "    <tr style=\"text-align: right;\">\n",
       "      <th></th>\n",
       "      <th>Id</th>\n",
       "      <th>L0_S0_F0</th>\n",
       "      <th>L0_S0_F2</th>\n",
       "      <th>L0_S0_F4</th>\n",
       "      <th>L0_S0_F6</th>\n",
       "      <th>L0_S0_F8</th>\n",
       "      <th>L0_S0_F10</th>\n",
       "      <th>L0_S0_F12</th>\n",
       "      <th>L0_S0_F14</th>\n",
       "      <th>L0_S0_F16</th>\n",
       "      <th>...</th>\n",
       "      <th>L3_S50_F4245</th>\n",
       "      <th>L3_S50_F4247</th>\n",
       "      <th>L3_S50_F4249</th>\n",
       "      <th>L3_S50_F4251</th>\n",
       "      <th>L3_S50_F4253</th>\n",
       "      <th>L3_S51_F4256</th>\n",
       "      <th>L3_S51_F4258</th>\n",
       "      <th>L3_S51_F4260</th>\n",
       "      <th>L3_S51_F4262</th>\n",
       "      <th>Response</th>\n",
       "    </tr>\n",
       "  </thead>\n",
       "  <tbody>\n",
       "    <tr>\n",
       "      <th>count</th>\n",
       "      <td>5.000000e+04</td>\n",
       "      <td>27238.000000</td>\n",
       "      <td>27238.000000</td>\n",
       "      <td>27238.000000</td>\n",
       "      <td>27238.000000</td>\n",
       "      <td>27238.000000</td>\n",
       "      <td>27238.000000</td>\n",
       "      <td>27238.000000</td>\n",
       "      <td>27238.000000</td>\n",
       "      <td>27238.000000</td>\n",
       "      <td>...</td>\n",
       "      <td>1230.0</td>\n",
       "      <td>1230.000000</td>\n",
       "      <td>1230.000000</td>\n",
       "      <td>1230.000000</td>\n",
       "      <td>1230.000000</td>\n",
       "      <td>2373.000000</td>\n",
       "      <td>2373.000000</td>\n",
       "      <td>2373.000000</td>\n",
       "      <td>2373.000000</td>\n",
       "      <td>50000.000000</td>\n",
       "    </tr>\n",
       "    <tr>\n",
       "      <th>mean</th>\n",
       "      <td>1.193251e+06</td>\n",
       "      <td>0.000023</td>\n",
       "      <td>0.000941</td>\n",
       "      <td>-0.016480</td>\n",
       "      <td>-0.016235</td>\n",
       "      <td>0.001479</td>\n",
       "      <td>-0.001413</td>\n",
       "      <td>-0.000774</td>\n",
       "      <td>-0.005116</td>\n",
       "      <td>-0.004083</td>\n",
       "      <td>...</td>\n",
       "      <td>0.0</td>\n",
       "      <td>0.000011</td>\n",
       "      <td>0.000417</td>\n",
       "      <td>0.000060</td>\n",
       "      <td>-0.013415</td>\n",
       "      <td>-0.000008</td>\n",
       "      <td>0.000001</td>\n",
       "      <td>0.000026</td>\n",
       "      <td>0.000026</td>\n",
       "      <td>0.500000</td>\n",
       "    </tr>\n",
       "    <tr>\n",
       "      <th>std</th>\n",
       "      <td>6.828337e+05</td>\n",
       "      <td>0.079047</td>\n",
       "      <td>0.091700</td>\n",
       "      <td>0.206429</td>\n",
       "      <td>0.206439</td>\n",
       "      <td>0.094583</td>\n",
       "      <td>0.163655</td>\n",
       "      <td>0.018923</td>\n",
       "      <td>0.101620</td>\n",
       "      <td>0.114463</td>\n",
       "      <td>...</td>\n",
       "      <td>0.0</td>\n",
       "      <td>0.000399</td>\n",
       "      <td>0.006160</td>\n",
       "      <td>0.000718</td>\n",
       "      <td>0.249741</td>\n",
       "      <td>0.000108</td>\n",
       "      <td>0.000036</td>\n",
       "      <td>0.000475</td>\n",
       "      <td>0.000388</td>\n",
       "      <td>0.500005</td>\n",
       "    </tr>\n",
       "    <tr>\n",
       "      <th>min</th>\n",
       "      <td>8.600000e+01</td>\n",
       "      <td>-0.356000</td>\n",
       "      <td>-0.362000</td>\n",
       "      <td>-0.397000</td>\n",
       "      <td>-0.416000</td>\n",
       "      <td>-0.404000</td>\n",
       "      <td>-0.566000</td>\n",
       "      <td>-0.044000</td>\n",
       "      <td>-0.232000</td>\n",
       "      <td>-0.388000</td>\n",
       "      <td>...</td>\n",
       "      <td>0.0</td>\n",
       "      <td>0.000000</td>\n",
       "      <td>0.000000</td>\n",
       "      <td>0.000000</td>\n",
       "      <td>-0.250000</td>\n",
       "      <td>-0.001000</td>\n",
       "      <td>0.000000</td>\n",
       "      <td>0.000000</td>\n",
       "      <td>0.000000</td>\n",
       "      <td>0.000000</td>\n",
       "    </tr>\n",
       "    <tr>\n",
       "      <th>25%</th>\n",
       "      <td>6.077412e+05</td>\n",
       "      <td>-0.049000</td>\n",
       "      <td>-0.056000</td>\n",
       "      <td>-0.179000</td>\n",
       "      <td>-0.179000</td>\n",
       "      <td>-0.056000</td>\n",
       "      <td>-0.066000</td>\n",
       "      <td>-0.015000</td>\n",
       "      <td>-0.072000</td>\n",
       "      <td>-0.087000</td>\n",
       "      <td>...</td>\n",
       "      <td>0.0</td>\n",
       "      <td>0.000000</td>\n",
       "      <td>0.000000</td>\n",
       "      <td>0.000000</td>\n",
       "      <td>-0.250000</td>\n",
       "      <td>0.000000</td>\n",
       "      <td>0.000000</td>\n",
       "      <td>0.000000</td>\n",
       "      <td>0.000000</td>\n",
       "      <td>0.000000</td>\n",
       "    </tr>\n",
       "    <tr>\n",
       "      <th>50%</th>\n",
       "      <td>1.193350e+06</td>\n",
       "      <td>0.003000</td>\n",
       "      <td>0.004000</td>\n",
       "      <td>-0.033000</td>\n",
       "      <td>-0.034000</td>\n",
       "      <td>0.031000</td>\n",
       "      <td>0.025000</td>\n",
       "      <td>-0.007000</td>\n",
       "      <td>-0.032000</td>\n",
       "      <td>-0.005000</td>\n",
       "      <td>...</td>\n",
       "      <td>0.0</td>\n",
       "      <td>0.000000</td>\n",
       "      <td>0.000000</td>\n",
       "      <td>0.000000</td>\n",
       "      <td>-0.250000</td>\n",
       "      <td>0.000000</td>\n",
       "      <td>0.000000</td>\n",
       "      <td>0.000000</td>\n",
       "      <td>0.000000</td>\n",
       "      <td>0.500000</td>\n",
       "    </tr>\n",
       "    <tr>\n",
       "      <th>75%</th>\n",
       "      <td>1.786041e+06</td>\n",
       "      <td>0.056000</td>\n",
       "      <td>0.063000</td>\n",
       "      <td>0.003000</td>\n",
       "      <td>0.003000</td>\n",
       "      <td>0.074000</td>\n",
       "      <td>0.116000</td>\n",
       "      <td>0.015000</td>\n",
       "      <td>0.048000</td>\n",
       "      <td>0.071000</td>\n",
       "      <td>...</td>\n",
       "      <td>0.0</td>\n",
       "      <td>0.000000</td>\n",
       "      <td>0.000000</td>\n",
       "      <td>0.000000</td>\n",
       "      <td>0.250000</td>\n",
       "      <td>0.000000</td>\n",
       "      <td>0.000000</td>\n",
       "      <td>0.000000</td>\n",
       "      <td>0.000000</td>\n",
       "      <td>1.000000</td>\n",
       "    </tr>\n",
       "    <tr>\n",
       "      <th>max</th>\n",
       "      <td>2.367316e+06</td>\n",
       "      <td>0.271000</td>\n",
       "      <td>0.272000</td>\n",
       "      <td>0.567000</td>\n",
       "      <td>0.566000</td>\n",
       "      <td>0.335000</td>\n",
       "      <td>0.252000</td>\n",
       "      <td>0.096000</td>\n",
       "      <td>0.488000</td>\n",
       "      <td>0.459000</td>\n",
       "      <td>...</td>\n",
       "      <td>0.0</td>\n",
       "      <td>0.014000</td>\n",
       "      <td>0.132000</td>\n",
       "      <td>0.020000</td>\n",
       "      <td>0.250000</td>\n",
       "      <td>0.002000</td>\n",
       "      <td>0.001000</td>\n",
       "      <td>0.019000</td>\n",
       "      <td>0.014000</td>\n",
       "      <td>1.000000</td>\n",
       "    </tr>\n",
       "  </tbody>\n",
       "</table>\n",
       "<p>8 rows × 970 columns</p>\n",
       "</div>"
      ],
      "text/plain": [
       "                 Id      L0_S0_F0      L0_S0_F2      L0_S0_F4      L0_S0_F6  \\\n",
       "count  5.000000e+04  27238.000000  27238.000000  27238.000000  27238.000000   \n",
       "mean   1.193251e+06      0.000023      0.000941     -0.016480     -0.016235   \n",
       "std    6.828337e+05      0.079047      0.091700      0.206429      0.206439   \n",
       "min    8.600000e+01     -0.356000     -0.362000     -0.397000     -0.416000   \n",
       "25%    6.077412e+05     -0.049000     -0.056000     -0.179000     -0.179000   \n",
       "50%    1.193350e+06      0.003000      0.004000     -0.033000     -0.034000   \n",
       "75%    1.786041e+06      0.056000      0.063000      0.003000      0.003000   \n",
       "max    2.367316e+06      0.271000      0.272000      0.567000      0.566000   \n",
       "\n",
       "           L0_S0_F8     L0_S0_F10     L0_S0_F12     L0_S0_F14     L0_S0_F16  \\\n",
       "count  27238.000000  27238.000000  27238.000000  27238.000000  27238.000000   \n",
       "mean       0.001479     -0.001413     -0.000774     -0.005116     -0.004083   \n",
       "std        0.094583      0.163655      0.018923      0.101620      0.114463   \n",
       "min       -0.404000     -0.566000     -0.044000     -0.232000     -0.388000   \n",
       "25%       -0.056000     -0.066000     -0.015000     -0.072000     -0.087000   \n",
       "50%        0.031000      0.025000     -0.007000     -0.032000     -0.005000   \n",
       "75%        0.074000      0.116000      0.015000      0.048000      0.071000   \n",
       "max        0.335000      0.252000      0.096000      0.488000      0.459000   \n",
       "\n",
       "           ...       L3_S50_F4245  L3_S50_F4247  L3_S50_F4249  L3_S50_F4251  \\\n",
       "count      ...             1230.0   1230.000000   1230.000000   1230.000000   \n",
       "mean       ...                0.0      0.000011      0.000417      0.000060   \n",
       "std        ...                0.0      0.000399      0.006160      0.000718   \n",
       "min        ...                0.0      0.000000      0.000000      0.000000   \n",
       "25%        ...                0.0      0.000000      0.000000      0.000000   \n",
       "50%        ...                0.0      0.000000      0.000000      0.000000   \n",
       "75%        ...                0.0      0.000000      0.000000      0.000000   \n",
       "max        ...                0.0      0.014000      0.132000      0.020000   \n",
       "\n",
       "       L3_S50_F4253  L3_S51_F4256  L3_S51_F4258  L3_S51_F4260  L3_S51_F4262  \\\n",
       "count   1230.000000   2373.000000   2373.000000   2373.000000   2373.000000   \n",
       "mean      -0.013415     -0.000008      0.000001      0.000026      0.000026   \n",
       "std        0.249741      0.000108      0.000036      0.000475      0.000388   \n",
       "min       -0.250000     -0.001000      0.000000      0.000000      0.000000   \n",
       "25%       -0.250000      0.000000      0.000000      0.000000      0.000000   \n",
       "50%       -0.250000      0.000000      0.000000      0.000000      0.000000   \n",
       "75%        0.250000      0.000000      0.000000      0.000000      0.000000   \n",
       "max        0.250000      0.002000      0.001000      0.019000      0.014000   \n",
       "\n",
       "           Response  \n",
       "count  50000.000000  \n",
       "mean       0.500000  \n",
       "std        0.500005  \n",
       "min        0.000000  \n",
       "25%        0.000000  \n",
       "50%        0.500000  \n",
       "75%        1.000000  \n",
       "max        1.000000  \n",
       "\n",
       "[8 rows x 970 columns]"
      ]
     },
     "execution_count": 2,
     "metadata": {},
     "output_type": "execute_result"
    }
   ],
   "source": [
    "dataset = pd.read_csv('upsampled_data_50k.csv')\n",
    "dataset.describe()"
   ]
  },
  {
   "cell_type": "markdown",
   "metadata": {},
   "source": [
    "<h4> Visually look at this using Missingno. First create a label column and a features column"
   ]
  },
  {
   "cell_type": "code",
   "execution_count": 5,
   "metadata": {},
   "outputs": [
    {
     "data": {
      "text/plain": [
       "<matplotlib.axes._subplots.AxesSubplot at 0x11c044438>"
      ]
     },
     "execution_count": 5,
     "metadata": {},
     "output_type": "execute_result"
    },
    {
     "data": {
      "image/png": "[encoded data removed]",
      "text/plain": [
       "<Figure size 1800x720 with 2 Axes>"
      ]
     },
     "metadata": {
      "needs_background": "light"
     },
     "output_type": "display_data"
    }
   ],
   "source": [
    "msno.matrix(dataset.drop(columns = ['Response']))"
   ]
  },
  {
   "cell_type": "code",
   "execution_count": 3,
   "metadata": {},
   "outputs": [],
   "source": [
    "labels = dataset.Response\n",
    "features = dataset.drop(columns=['Id', 'Response'])"
   ]
  },
  {
   "cell_type": "code",
   "execution_count": 4,
   "metadata": {},
   "outputs": [
    {
     "data": {
      "text/plain": [
       "<matplotlib.axes._subplots.AxesSubplot at 0x11aec4240>"
      ]
     },
     "execution_count": 4,
     "metadata": {},
     "output_type": "execute_result"
    },
    {
     "data": {
      "image/png": "[encoded data removed]",
      "text/plain": [
       "<Figure size 432x288 with 1 Axes>"
      ]
     },
     "metadata": {
      "needs_background": "light"
     },
     "output_type": "display_data"
    }
   ],
   "source": [
    "import seaborn as sns\n",
    "sns.countplot(labels)"
   ]
  },
  {
   "cell_type": "markdown",
   "metadata": {},
   "source": [
    "<h5> Next we drop columns that just don't have much data\n"
   ]
  },
  {
   "cell_type": "code",
   "execution_count": 6,
   "metadata": {},
   "outputs": [],
   "source": [
    "def get_reduced_dataset(dataset, threshold):\n",
    "    cols = dataset.columns\n",
    "    size = dataset.shape\n",
    "    reduced_dataset = pd.DataFrame()\n",
    "    for i, col in enumerate(cols):\n",
    "        if dataset[cols[i]].count()/size[0] < threshold:\n",
    "            pass\n",
    "        else:\n",
    "            reduced_dataset[col] = dataset[cols[i]]\n",
    "    return reduced_dataset       "
   ]
  },
  {
   "cell_type": "code",
   "execution_count": 7,
   "metadata": {},
   "outputs": [],
   "source": [
    "# Threshold can be a parameter we play with later on. \n",
    "red_dataset = get_reduced_dataset(dataset, 0.5)"
   ]
  },
  {
   "cell_type": "code",
   "execution_count": 28,
   "metadata": {},
   "outputs": [
    {
     "name": "stdout",
     "output_type": "stream",
     "text": [
      "Original Dataset shape = (50000, 970) becomes ------> Reduced Dataset shape = (50000, 158)\n"
     ]
    }
   ],
   "source": [
    "print(\"Original Dataset shape = {} becomes ------> Reduced Dataset shape = {}\".format(dataset.shape, red_dataset.shape))"
   ]
  },
  {
   "cell_type": "markdown",
   "metadata": {},
   "source": [
    "<h4> Let's look at the reduced dataset using missingno to see if we dropped the right columns\n"
   ]
  },
  {
   "cell_type": "code",
   "execution_count": 29,
   "metadata": {},
   "outputs": [
    {
     "data": {
      "text/plain": [
       "<matplotlib.axes._subplots.AxesSubplot at 0x11e80d278>"
      ]
     },
     "execution_count": 29,
     "metadata": {},
     "output_type": "execute_result"
    },
    {
     "data": {
      "image/png": "[encoded data removed]",
      "text/plain": [
       "<Figure size 1800x720 with 2 Axes>"
      ]
     },
     "metadata": {
      "needs_background": "light"
     },
     "output_type": "display_data"
    }
   ],
   "source": [
    "msno.matrix(red_dataset)"
   ]
  },
  {
   "cell_type": "markdown",
   "metadata": {},
   "source": [
    "<h5> This is an extreme reduction - from 970 to roughly 150 features. Now we can look at the correlation matrix for the reduced dataset as well as how correlated the reduced labels are with the final response variable. "
   ]
  },
  {
   "cell_type": "code",
   "execution_count": 10,
   "metadata": {},
   "outputs": [],
   "source": [
    "final_labels = red_dataset.Response\n",
    "final_features = red_dataset.drop(columns=['Id', 'Response'])\n",
    "feature_names = final_features.columns"
   ]
  },
  {
   "cell_type": "code",
   "execution_count": 12,
   "metadata": {},
   "outputs": [],
   "source": [
    "response_corr = red_dataset[red_dataset.columns[1:]].corr()['Response'][:-1]\n",
    "resp_dict = dict(zip(np.abs(response_corr), feature_names))"
   ]
  },
  {
   "cell_type": "markdown",
   "metadata": {},
   "source": [
    "<h6> Arrange the dict in terms of the highest and lowest values of the correlations"
   ]
  },
  {
   "cell_type": "code",
   "execution_count": 14,
   "metadata": {},
   "outputs": [],
   "source": [
    "rev_dict = dict()\n",
    "for num in sorted(resp_dict, reverse=True):\n",
    "    rev_dict[resp_dict[num]] = num"
   ]
  },
  {
   "cell_type": "markdown",
   "metadata": {},
   "source": [
    "<h4> Now we know the highest and lowest correlated features. Plot the top 10"
   ]
  },
  {
   "cell_type": "code",
   "execution_count": 16,
   "metadata": {
    "scrolled": true
   },
   "outputs": [
    {
     "data": {
      "image/png": "[encoded data removed]",
      "text/plain": [
       "<Figure size 432x288 with 1 Axes>"
      ]
     },
     "metadata": {
      "needs_background": "light"
     },
     "output_type": "display_data"
    }
   ],
   "source": [
    "sns.barplot(x = list(rev_dict.values())[:10], y = list(rev_dict.keys())[:10])\n",
    "plt.savefig('correlations.png')"
   ]
  },
  {
   "cell_type": "markdown",
   "metadata": {},
   "source": [
    "<h3> Next we write the pipeline for Machine Learning"
   ]
  },
  {
   "cell_type": "code",
   "execution_count": 11,
   "metadata": {},
   "outputs": [],
   "source": [
    "means = red_dataset.mean()\n",
    "imputed_dataset = final_features.fillna(red_dataset.mean())\n",
    "retained_columns = imputed_dataset.columns"
   ]
  },
  {
   "cell_type": "markdown",
   "metadata": {},
   "source": [
    "<h6> All columns are now imputed with their corresponding means. Lets look at some histograms of the columns."
   ]
  },
  {
   "cell_type": "code",
   "execution_count": 327,
   "metadata": {},
   "outputs": [
    {
     "data": {
      "text/html": [
       "<div>\n",
       "<style scoped>\n",
       "    .dataframe tbody tr th:only-of-type {\n",
       "        vertical-align: middle;\n",
       "    }\n",
       "\n",
       "    .dataframe tbody tr th {\n",
       "        vertical-align: top;\n",
       "    }\n",
       "\n",
       "    .dataframe thead th {\n",
       "        text-align: right;\n",
       "    }\n",
       "</style>\n",
       "<table border=\"1\" class=\"dataframe\">\n",
       "  <thead>\n",
       "    <tr style=\"text-align: right;\">\n",
       "      <th></th>\n",
       "      <th>L0_S0_F0</th>\n",
       "      <th>L0_S0_F2</th>\n",
       "      <th>L0_S0_F4</th>\n",
       "      <th>L0_S0_F6</th>\n",
       "      <th>L0_S0_F8</th>\n",
       "      <th>L0_S0_F10</th>\n",
       "      <th>L0_S0_F12</th>\n",
       "      <th>L0_S0_F14</th>\n",
       "      <th>L0_S0_F16</th>\n",
       "      <th>L0_S0_F18</th>\n",
       "      <th>...</th>\n",
       "      <th>L3_S33_F3871</th>\n",
       "      <th>L3_S33_F3873</th>\n",
       "      <th>L3_S34_F3876</th>\n",
       "      <th>L3_S34_F3878</th>\n",
       "      <th>L3_S34_F3880</th>\n",
       "      <th>L3_S34_F3882</th>\n",
       "      <th>L3_S37_F3944</th>\n",
       "      <th>L3_S37_F3946</th>\n",
       "      <th>L3_S37_F3948</th>\n",
       "      <th>L3_S37_F3950</th>\n",
       "    </tr>\n",
       "  </thead>\n",
       "  <tbody>\n",
       "    <tr>\n",
       "      <th>count</th>\n",
       "      <td>50000.000000</td>\n",
       "      <td>50000.000000</td>\n",
       "      <td>50000.000000</td>\n",
       "      <td>50000.000000</td>\n",
       "      <td>50000.000000</td>\n",
       "      <td>50000.000000</td>\n",
       "      <td>50000.000000</td>\n",
       "      <td>50000.000000</td>\n",
       "      <td>50000.000000</td>\n",
       "      <td>50000.000000</td>\n",
       "      <td>...</td>\n",
       "      <td>50000.000000</td>\n",
       "      <td>50000.000000</td>\n",
       "      <td>5.000000e+04</td>\n",
       "      <td>5.000000e+04</td>\n",
       "      <td>50000.000000</td>\n",
       "      <td>50000.000000</td>\n",
       "      <td>5.000000e+04</td>\n",
       "      <td>50000.000000</td>\n",
       "      <td>50000.000000</td>\n",
       "      <td>50000.000000</td>\n",
       "    </tr>\n",
       "    <tr>\n",
       "      <th>mean</th>\n",
       "      <td>0.001378</td>\n",
       "      <td>0.002334</td>\n",
       "      <td>-0.024000</td>\n",
       "      <td>-0.024323</td>\n",
       "      <td>0.014918</td>\n",
       "      <td>0.010612</td>\n",
       "      <td>-0.003608</td>\n",
       "      <td>-0.017354</td>\n",
       "      <td>-0.004501</td>\n",
       "      <td>0.000156</td>\n",
       "      <td>...</td>\n",
       "      <td>0.000006</td>\n",
       "      <td>0.000034</td>\n",
       "      <td>2.400000e-07</td>\n",
       "      <td>2.400000e-07</td>\n",
       "      <td>0.000004</td>\n",
       "      <td>0.000072</td>\n",
       "      <td>1.400000e-07</td>\n",
       "      <td>0.000011</td>\n",
       "      <td>0.000028</td>\n",
       "      <td>0.000053</td>\n",
       "    </tr>\n",
       "    <tr>\n",
       "      <th>std</th>\n",
       "      <td>0.058361</td>\n",
       "      <td>0.067698</td>\n",
       "      <td>0.152582</td>\n",
       "      <td>0.152624</td>\n",
       "      <td>0.071340</td>\n",
       "      <td>0.121503</td>\n",
       "      <td>0.014307</td>\n",
       "      <td>0.076189</td>\n",
       "      <td>0.084483</td>\n",
       "      <td>0.082129</td>\n",
       "      <td>...</td>\n",
       "      <td>0.000299</td>\n",
       "      <td>0.001406</td>\n",
       "      <td>2.190781e-05</td>\n",
       "      <td>3.794695e-05</td>\n",
       "      <td>0.000241</td>\n",
       "      <td>0.003008</td>\n",
       "      <td>1.183145e-05</td>\n",
       "      <td>0.002313</td>\n",
       "      <td>0.001110</td>\n",
       "      <td>0.002784</td>\n",
       "    </tr>\n",
       "    <tr>\n",
       "      <th>min</th>\n",
       "      <td>-0.356000</td>\n",
       "      <td>-0.362000</td>\n",
       "      <td>-0.397000</td>\n",
       "      <td>-0.416000</td>\n",
       "      <td>-0.404000</td>\n",
       "      <td>-0.566000</td>\n",
       "      <td>-0.044000</td>\n",
       "      <td>-0.232000</td>\n",
       "      <td>-0.388000</td>\n",
       "      <td>-0.425000</td>\n",
       "      <td>...</td>\n",
       "      <td>0.000000</td>\n",
       "      <td>0.000000</td>\n",
       "      <td>0.000000e+00</td>\n",
       "      <td>0.000000e+00</td>\n",
       "      <td>0.000000</td>\n",
       "      <td>0.000000</td>\n",
       "      <td>0.000000e+00</td>\n",
       "      <td>0.000000</td>\n",
       "      <td>0.000000</td>\n",
       "      <td>0.000000</td>\n",
       "    </tr>\n",
       "    <tr>\n",
       "      <th>25%</th>\n",
       "      <td>-0.003000</td>\n",
       "      <td>-0.004000</td>\n",
       "      <td>-0.052000</td>\n",
       "      <td>-0.052000</td>\n",
       "      <td>-0.013000</td>\n",
       "      <td>0.025000</td>\n",
       "      <td>-0.007000</td>\n",
       "      <td>-0.032000</td>\n",
       "      <td>-0.016000</td>\n",
       "      <td>-0.019000</td>\n",
       "      <td>...</td>\n",
       "      <td>0.000000</td>\n",
       "      <td>0.000000</td>\n",
       "      <td>0.000000e+00</td>\n",
       "      <td>0.000000e+00</td>\n",
       "      <td>0.000000</td>\n",
       "      <td>0.000000</td>\n",
       "      <td>0.000000e+00</td>\n",
       "      <td>0.000000</td>\n",
       "      <td>0.000000</td>\n",
       "      <td>0.000000</td>\n",
       "    </tr>\n",
       "    <tr>\n",
       "      <th>50%</th>\n",
       "      <td>0.003000</td>\n",
       "      <td>0.004000</td>\n",
       "      <td>-0.033000</td>\n",
       "      <td>-0.034000</td>\n",
       "      <td>0.031000</td>\n",
       "      <td>0.025000</td>\n",
       "      <td>-0.007000</td>\n",
       "      <td>-0.032000</td>\n",
       "      <td>-0.005000</td>\n",
       "      <td>0.002000</td>\n",
       "      <td>...</td>\n",
       "      <td>0.000000</td>\n",
       "      <td>0.000000</td>\n",
       "      <td>0.000000e+00</td>\n",
       "      <td>0.000000e+00</td>\n",
       "      <td>0.000000</td>\n",
       "      <td>0.000000</td>\n",
       "      <td>0.000000e+00</td>\n",
       "      <td>0.000000</td>\n",
       "      <td>0.000000</td>\n",
       "      <td>0.000000</td>\n",
       "    </tr>\n",
       "    <tr>\n",
       "      <th>75%</th>\n",
       "      <td>0.010000</td>\n",
       "      <td>0.011000</td>\n",
       "      <td>-0.033000</td>\n",
       "      <td>-0.034000</td>\n",
       "      <td>0.031000</td>\n",
       "      <td>0.070000</td>\n",
       "      <td>0.000000</td>\n",
       "      <td>-0.032000</td>\n",
       "      <td>0.005000</td>\n",
       "      <td>0.013000</td>\n",
       "      <td>...</td>\n",
       "      <td>0.000000</td>\n",
       "      <td>0.000000</td>\n",
       "      <td>0.000000e+00</td>\n",
       "      <td>0.000000e+00</td>\n",
       "      <td>0.000000</td>\n",
       "      <td>0.000000</td>\n",
       "      <td>0.000000e+00</td>\n",
       "      <td>0.000000</td>\n",
       "      <td>0.000000</td>\n",
       "      <td>0.000000</td>\n",
       "    </tr>\n",
       "    <tr>\n",
       "      <th>max</th>\n",
       "      <td>0.271000</td>\n",
       "      <td>0.272000</td>\n",
       "      <td>0.567000</td>\n",
       "      <td>0.566000</td>\n",
       "      <td>0.335000</td>\n",
       "      <td>0.252000</td>\n",
       "      <td>0.096000</td>\n",
       "      <td>0.488000</td>\n",
       "      <td>0.459000</td>\n",
       "      <td>0.436000</td>\n",
       "      <td>...</td>\n",
       "      <td>0.058000</td>\n",
       "      <td>0.146000</td>\n",
       "      <td>3.000000e-03</td>\n",
       "      <td>6.000000e-03</td>\n",
       "      <td>0.035000</td>\n",
       "      <td>0.478000</td>\n",
       "      <td>1.000000e-03</td>\n",
       "      <td>0.517000</td>\n",
       "      <td>0.066000</td>\n",
       "      <td>0.492000</td>\n",
       "    </tr>\n",
       "  </tbody>\n",
       "</table>\n",
       "<p>8 rows × 156 columns</p>\n",
       "</div>"
      ],
      "text/plain": [
       "           L0_S0_F0      L0_S0_F2      L0_S0_F4      L0_S0_F6      L0_S0_F8  \\\n",
       "count  50000.000000  50000.000000  50000.000000  50000.000000  50000.000000   \n",
       "mean       0.001378      0.002334     -0.024000     -0.024323      0.014918   \n",
       "std        0.058361      0.067698      0.152582      0.152624      0.071340   \n",
       "min       -0.356000     -0.362000     -0.397000     -0.416000     -0.404000   \n",
       "25%       -0.003000     -0.004000     -0.052000     -0.052000     -0.013000   \n",
       "50%        0.003000      0.004000     -0.033000     -0.034000      0.031000   \n",
       "75%        0.010000      0.011000     -0.033000     -0.034000      0.031000   \n",
       "max        0.271000      0.272000      0.567000      0.566000      0.335000   \n",
       "\n",
       "          L0_S0_F10     L0_S0_F12     L0_S0_F14     L0_S0_F16     L0_S0_F18  \\\n",
       "count  50000.000000  50000.000000  50000.000000  50000.000000  50000.000000   \n",
       "mean       0.010612     -0.003608     -0.017354     -0.004501      0.000156   \n",
       "std        0.121503      0.014307      0.076189      0.084483      0.082129   \n",
       "min       -0.566000     -0.044000     -0.232000     -0.388000     -0.425000   \n",
       "25%        0.025000     -0.007000     -0.032000     -0.016000     -0.019000   \n",
       "50%        0.025000     -0.007000     -0.032000     -0.005000      0.002000   \n",
       "75%        0.070000      0.000000     -0.032000      0.005000      0.013000   \n",
       "max        0.252000      0.096000      0.488000      0.459000      0.436000   \n",
       "\n",
       "           ...       L3_S33_F3871  L3_S33_F3873  L3_S34_F3876  L3_S34_F3878  \\\n",
       "count      ...       50000.000000  50000.000000  5.000000e+04  5.000000e+04   \n",
       "mean       ...           0.000006      0.000034  2.400000e-07  2.400000e-07   \n",
       "std        ...           0.000299      0.001406  2.190781e-05  3.794695e-05   \n",
       "min        ...           0.000000      0.000000  0.000000e+00  0.000000e+00   \n",
       "25%        ...           0.000000      0.000000  0.000000e+00  0.000000e+00   \n",
       "50%        ...           0.000000      0.000000  0.000000e+00  0.000000e+00   \n",
       "75%        ...           0.000000      0.000000  0.000000e+00  0.000000e+00   \n",
       "max        ...           0.058000      0.146000  3.000000e-03  6.000000e-03   \n",
       "\n",
       "       L3_S34_F3880  L3_S34_F3882  L3_S37_F3944  L3_S37_F3946  L3_S37_F3948  \\\n",
       "count  50000.000000  50000.000000  5.000000e+04  50000.000000  50000.000000   \n",
       "mean       0.000004      0.000072  1.400000e-07      0.000011      0.000028   \n",
       "std        0.000241      0.003008  1.183145e-05      0.002313      0.001110   \n",
       "min        0.000000      0.000000  0.000000e+00      0.000000      0.000000   \n",
       "25%        0.000000      0.000000  0.000000e+00      0.000000      0.000000   \n",
       "50%        0.000000      0.000000  0.000000e+00      0.000000      0.000000   \n",
       "75%        0.000000      0.000000  0.000000e+00      0.000000      0.000000   \n",
       "max        0.035000      0.478000  1.000000e-03      0.517000      0.066000   \n",
       "\n",
       "       L3_S37_F3950  \n",
       "count  50000.000000  \n",
       "mean       0.000053  \n",
       "std        0.002784  \n",
       "min        0.000000  \n",
       "25%        0.000000  \n",
       "50%        0.000000  \n",
       "75%        0.000000  \n",
       "max        0.492000  \n",
       "\n",
       "[8 rows x 156 columns]"
      ]
     },
     "execution_count": 327,
     "metadata": {},
     "output_type": "execute_result"
    }
   ],
   "source": [
    "imputed_dataset.describe()"
   ]
  },
  {
   "cell_type": "code",
   "execution_count": 328,
   "metadata": {},
   "outputs": [
    {
     "data": {
      "text/plain": [
       "<matplotlib.axes._subplots.AxesSubplot at 0x162b50eb8>"
      ]
     },
     "execution_count": 328,
     "metadata": {},
     "output_type": "execute_result"
    },
    {
     "data": {
      "image/png": "[encoded data removed]",
      "text/plain": [
       "<Figure size 432x288 with 4 Axes>"
      ]
     },
     "metadata": {
      "needs_background": "light"
     },
     "output_type": "display_data"
    }
   ],
   "source": [
    "plt.figure()\n",
    "plt.subplot(221)\n",
    "sns.kdeplot(imputed_dataset[feature_names[150]])\n",
    "plt.subplot(222)\n",
    "sns.kdeplot(imputed_dataset[feature_names[100]])\n",
    "plt.subplot(223)\n",
    "sns.kdeplot(imputed_dataset[feature_names[50]])\n",
    "plt.subplot(224)\n",
    "sns.kdeplot(imputed_dataset[feature_names[1]])"
   ]
  },
  {
   "cell_type": "markdown",
   "metadata": {},
   "source": [
    ",<h6> Some of the columns have considerable skew, which might affect the model. We can easily add a deskewing operator to convert thsse columns to their logged values if the kurtosis if sufficiently large. Also notice the difference in the absolute values of the numerical features. For this we introduce a Standard Scaler on the training data"
   ]
  },
  {
   "cell_type": "code",
   "execution_count": 448,
   "metadata": {},
   "outputs": [],
   "source": [
    "def skew_eliminator(dataset, threshold):\n",
    "    get_col_names = []\n",
    "    kurt_vec = dataset.kurtosis()\n",
    "    # if kurtosis is nan, drop that columns\n",
    "    for i, cols in enumerate(dataset.columns):\n",
    "        if np.isnan(kurt_vec[i]):\n",
    "            dataset.drop(columns = cols)\n",
    "        if kurt_vec[i] > threshold:\n",
    "            dataset[cols] = np.log(dataset[cols]+1)\n",
    "            get_col_names.append(cols)\n",
    "            #[np.log(x+1) for x in dataset[[cols]]]\n",
    "        else:\n",
    "            pass\n",
    "    return dataset, get_col_names"
   ]
  },
  {
   "cell_type": "code",
   "execution_count": 302,
   "metadata": {},
   "outputs": [
    {
     "data": {
      "text/plain": [
       "<matplotlib.axes._subplots.AxesSubplot at 0x15dd34898>"
      ]
     },
     "execution_count": 302,
     "metadata": {},
     "output_type": "execute_result"
    },
    {
     "data": {
      "image/png": "[encoded data removed]",
      "text/plain": [
       "<Figure size 432x288 with 4 Axes>"
      ]
     },
     "metadata": {
      "needs_background": "light"
     },
     "output_type": "display_data"
    }
   ],
   "source": [
    "plt.figure()\n",
    "plt.subplot(221)\n",
    "sns.kdeplot(imputed_dataset_deskew[feature_names[150]])\n",
    "plt.subplot(222)\n",
    "sns.kdeplot(imputed_dataset_deskew[feature_names[100]])\n",
    "plt.subplot(223)\n",
    "sns.kdeplot(imputed_dataset_deskew[feature_names[50]])\n",
    "plt.subplot(224)\n",
    "sns.kdeplot(imputed_dataset_deskew[feature_names[1]])"
   ]
  },
  {
   "cell_type": "code",
   "execution_count": 12,
   "metadata": {},
   "outputs": [],
   "source": [
    "X_train, X_test, y_train, y_test = train_test_split(imputed_dataset, labels, test_size = 0.2)"
   ]
  },
  {
   "cell_type": "code",
   "execution_count": 13,
   "metadata": {},
   "outputs": [],
   "source": [
    "from sklearn.preprocessing import MinMaxScaler\n",
    "scaler = MinMaxScaler().fit(X_train)\n",
    "X_train_scaled = scaler.transform(X_train)\n",
    "X_test_scaled = scaler.transform(X_test)"
   ]
  },
  {
   "cell_type": "code",
   "execution_count": 19,
   "metadata": {},
   "outputs": [],
   "source": [
    "#X_train_scaled_deskewed = skew_eliminator(pd.DataFrame(X_train_scaled), 10)[0]\n",
    "#print(\"Min, Max Kurtosis before scaling --{}, {}\".format(np.min(imputed_dataset.kurtosis())\n",
    "#                                                        ,np.max(imputed_dataset.kurtosis())))\n",
    "#print(\"Min, Max Kurtosis after scaling --{}, {}\".format(np.min(X_train_scaled_deskewed.kurtosis())\n",
    "#                                                        ,np.max(X_train_scaled_deskewed.kurtosis())))"
   ]
  },
  {
   "cell_type": "code",
   "execution_count": 450,
   "metadata": {},
   "outputs": [],
   "source": [
    "#cols_to_skew = skew_eliminator(pd.DataFrame(X_train_scaled), 10)[1]"
   ]
  },
  {
   "cell_type": "code",
   "execution_count": 20,
   "metadata": {},
   "outputs": [],
   "source": [
    "#len(cols_to_skew)"
   ]
  },
  {
   "cell_type": "code",
   "execution_count": 17,
   "metadata": {},
   "outputs": [],
   "source": [
    "from sklearn.metrics import accuracy_score, auc, confusion_matrix, roc_curve, recall_score, precision_score"
   ]
  },
  {
   "cell_type": "code",
   "execution_count": 22,
   "metadata": {},
   "outputs": [
    {
     "data": {
      "text/plain": [
       "RandomForestClassifier(bootstrap=True, class_weight=None, criterion='gini',\n",
       "            max_depth=16, max_features='auto', max_leaf_nodes=None,\n",
       "            min_impurity_decrease=0.0, min_impurity_split=None,\n",
       "            min_samples_leaf=1, min_samples_split=2,\n",
       "            min_weight_fraction_leaf=0.0, n_estimators=500, n_jobs=None,\n",
       "            oob_score=False, random_state=None, verbose=0,\n",
       "            warm_start=False)"
      ]
     },
     "execution_count": 22,
     "metadata": {},
     "output_type": "execute_result"
    }
   ],
   "source": [
    "model_rf = RandomForestClassifier(min_samples_leaf=1, n_estimators=500, max_depth = 16)\n",
    "model_rf.fit(X_train_scaled, y_train)"
   ]
  },
  {
   "cell_type": "code",
   "execution_count": 387,
   "metadata": {},
   "outputs": [
    {
     "name": "stdout",
     "output_type": "stream",
     "text": [
      "Fitting 3 folds for each of 144 candidates, totalling 432 fits\n"
     ]
    },
    {
     "name": "stderr",
     "output_type": "stream",
     "text": [
      "[Parallel(n_jobs=-1)]: Using backend LokyBackend with 8 concurrent workers.\n",
      "[Parallel(n_jobs=-1)]: Done  25 tasks      | elapsed:    6.9s\n",
      "[Parallel(n_jobs=-1)]: Done 146 tasks      | elapsed:   41.2s\n",
      "[Parallel(n_jobs=-1)]: Done 349 tasks      | elapsed:  3.0min\n",
      "[Parallel(n_jobs=-1)]: Done 432 out of 432 | elapsed:  5.1min finished\n"
     ]
    },
    {
     "data": {
      "text/plain": [
       "GridSearchCV(cv=3, error_score='raise-deprecating',\n",
       "       estimator=RandomForestClassifier(bootstrap=True, class_weight=None, criterion='gini',\n",
       "            max_depth=None, max_features='auto', max_leaf_nodes=None,\n",
       "            min_impurity_decrease=0.0, min_impurity_split=None,\n",
       "            min_samples_leaf=1, min_samples_split=2,\n",
       "            min_weight_fraction_leaf=0.0, n_estimators='warn', n_jobs=None,\n",
       "            oob_score=False, random_state=None, verbose=0,\n",
       "            warm_start=False),\n",
       "       fit_params=None, iid='warn', n_jobs=-1,\n",
       "       param_grid={'bootstrap': [True], 'max_depth': [2, 4, 8, 16], 'min_samples_leaf': [1, 5, 10], 'min_samples_split': [8, 10, 12], 'n_estimators': [1, 10, 100, 200]},\n",
       "       pre_dispatch='2*n_jobs', refit=True, return_train_score='warn',\n",
       "       scoring='recall', verbose=2)"
      ]
     },
     "execution_count": 387,
     "metadata": {},
     "output_type": "execute_result"
    }
   ],
   "source": [
    "# Run a GridSearch\n",
    "from sklearn.model_selection import GridSearchCV\n",
    "\n",
    "param_grid = {\n",
    "    'bootstrap': [True],\n",
    "    'max_depth': [2, 4, 8, 16],\n",
    "    'min_samples_leaf': [1, 5, 10],\n",
    "    'min_samples_split': [8, 10, 12],\n",
    "    'n_estimators': [1, 10, 100, 200]\n",
    "}\n",
    "# Create a based model\n",
    "rf = RandomForestClassifier()\n",
    "# Instantiate the grid search model\n",
    "grid_search = GridSearchCV(estimator = rf, param_grid = param_grid, \n",
    "                          cv = 3, n_jobs = -1, verbose = 2, scoring = 'recall'\n",
    "                          )\n",
    "\n",
    "grid_search.fit(X_train_scaled_deskewed, y_train)"
   ]
  },
  {
   "cell_type": "code",
   "execution_count": 404,
   "metadata": {},
   "outputs": [
    {
     "data": {
      "text/plain": [
       "0.8647024203247143"
      ]
     },
     "execution_count": 404,
     "metadata": {},
     "output_type": "execute_result"
    }
   ],
   "source": [
    "best_est = grid_search.best_estimator_\n",
    "grid_search.best_score_"
   ]
  },
  {
   "cell_type": "code",
   "execution_count": 23,
   "metadata": {},
   "outputs": [
    {
     "name": "stdout",
     "output_type": "stream",
     "text": [
      "Val accuracy  = 0.9102, Train accuracy = 0.9736\n"
     ]
    }
   ],
   "source": [
    "#X_test_scaled = skew_eliminator(pd.DataFrame(X_test_scaled), 10)\n",
    "pred = model_rf.predict(X_test_scaled)\n",
    "train_pred = model_rf.predict(X_train_scaled)\n",
    "print(\"Val accuracy  = {}, Train accuracy = {}\".format(accuracy_score(y_test, pred), accuracy_score(y_train, train_pred)))"
   ]
  },
  {
   "cell_type": "code",
   "execution_count": 24,
   "metadata": {},
   "outputs": [
    {
     "data": {
      "text/plain": [
       "(0.9246492985971944, 0.8983644859813084)"
      ]
     },
     "execution_count": 24,
     "metadata": {},
     "output_type": "execute_result"
    }
   ],
   "source": [
    "#confusion_matrix(y_test, pred)\n",
    "recall_score(y_test, pred), precision_score(y_test, pred)"
   ]
  },
  {
   "cell_type": "code",
   "execution_count": 402,
   "metadata": {},
   "outputs": [
    {
     "name": "stdout",
     "output_type": "stream",
     "text": [
      "Val accuracy  = 0.7416, Train accuracy = 0.9737\n"
     ]
    }
   ],
   "source": [
    "X_test_scaled_deskewed = skew_eliminator(pd.DataFrame(X_test_scaled), 10)\n",
    "pred = best_est.predict(X_test_scaled_deskewed)\n",
    "train_pred = best_est.predict(X_train_scaled_deskewed)\n",
    "print(\"Val accuracy  = {}, Train accuracy = {}\".format(accuracy_score(y_test, pred), accuracy_score(y_train, train_pred)))"
   ]
  },
  {
   "cell_type": "code",
   "execution_count": 393,
   "metadata": {},
   "outputs": [
    {
     "data": {
      "text/plain": [
       "0.9737"
      ]
     },
     "execution_count": 393,
     "metadata": {},
     "output_type": "execute_result"
    }
   ],
   "source": [
    "accuracy_score(y_train, train_pred)"
   ]
  },
  {
   "cell_type": "code",
   "execution_count": 411,
   "metadata": {},
   "outputs": [
    {
     "data": {
      "text/plain": [
       "0.8720508166969148"
      ]
     },
     "execution_count": 411,
     "metadata": {},
     "output_type": "execute_result"
    }
   ],
   "source": [
    "#accuracy_score(y_test, pred)\n",
    "recall_score(y_test, pred), precision_score(y_test, pred)"
   ]
  },
  {
   "cell_type": "code",
   "execution_count": 25,
   "metadata": {},
   "outputs": [
    {
     "data": {
      "text/plain": [
       "array([[4488,  522],\n",
       "       [ 376, 4614]])"
      ]
     },
     "execution_count": 25,
     "metadata": {},
     "output_type": "execute_result"
    }
   ],
   "source": [
    "confusion_matrix(y_test, pred)"
   ]
  },
  {
   "cell_type": "code",
   "execution_count": 27,
   "metadata": {},
   "outputs": [],
   "source": [
    "pred_proba_rf = model_rf.predict_log_proba(X_test_scaled)\n",
    "fpr_rf, tpr_rf, _ = roc_curve(y_test, pred_proba_rf[:, 1])\n",
    "area_rf = auc(fpr_rf, tpr_rf)"
   ]
  },
  {
   "cell_type": "code",
   "execution_count": 30,
   "metadata": {},
   "outputs": [
    {
     "data": {
      "image/png": "[encoded data removed]",
      "text/plain": [
       "<Figure size 432x288 with 1 Axes>"
      ]
     },
     "metadata": {
      "needs_background": "light"
     },
     "output_type": "display_data"
    }
   ],
   "source": [
    "lw = 2\n",
    "plt.plot(fpr_rf, tpr_rf, color='darkorange',\n",
    "          label='ROC curve (area = %0.2f)' % area_rf)\n",
    "plt.plot([0, 1], [0, 1], color='navy', lw=lw, linestyle='--')\n",
    "plt.xlim([0.0, 1.0])\n",
    "plt.ylim([0.0, 1.05])\n",
    "plt.xlabel('False Positive Rate')\n",
    "plt.ylabel('True Positive Rate')\n",
    "plt.title('Receiver operating characteristic example')\n",
    "plt.legend(loc=\"lower right\")\n",
    "plt.show()"
   ]
  },
  {
   "cell_type": "markdown",
   "metadata": {},
   "source": [
    "<h5> The upsampled model outperforms the baseline and has a extremely high recall on the holdout. "
   ]
  },
  {
   "cell_type": "code",
   "execution_count": 31,
   "metadata": {},
   "outputs": [
    {
     "name": "stderr",
     "output_type": "stream",
     "text": [
      "/anaconda3/lib/python3.6/site-packages/sklearn/linear_model/logistic.py:433: FutureWarning: Default solver will be changed to 'lbfgs' in 0.22. Specify a solver to silence this warning.\n",
      "  FutureWarning)\n"
     ]
    },
    {
     "data": {
      "text/plain": [
       "LogisticRegression(C=1.0, class_weight=None, dual=False, fit_intercept=True,\n",
       "          intercept_scaling=1, max_iter=100, multi_class='warn',\n",
       "          n_jobs=None, penalty='l1', random_state=None, solver='warn',\n",
       "          tol=0.0001, verbose=0, warm_start=False)"
      ]
     },
     "execution_count": 31,
     "metadata": {},
     "output_type": "execute_result"
    }
   ],
   "source": [
    "from sklearn.linear_model import LogisticRegression\n",
    "\n",
    "model_lr = LogisticRegression(penalty = 'l1')\n",
    "model_lr.fit(X_train_scaled, y_train)"
   ]
  },
  {
   "cell_type": "code",
   "execution_count": 420,
   "metadata": {},
   "outputs": [
    {
     "name": "stdout",
     "output_type": "stream",
     "text": [
      "Fitting 3 folds for each of 8 candidates, totalling 24 fits\n"
     ]
    },
    {
     "name": "stderr",
     "output_type": "stream",
     "text": [
      "[Parallel(n_jobs=3)]: Using backend LokyBackend with 3 concurrent workers.\n",
      "[Parallel(n_jobs=3)]: Done  24 out of  24 | elapsed: 11.8min finished\n",
      "/anaconda3/lib/python3.6/site-packages/sklearn/linear_model/logistic.py:433: FutureWarning: Default solver will be changed to 'lbfgs' in 0.22. Specify a solver to silence this warning.\n",
      "  FutureWarning)\n"
     ]
    },
    {
     "data": {
      "text/plain": [
       "GridSearchCV(cv=3, error_score='raise-deprecating',\n",
       "       estimator=LogisticRegression(C=1.0, class_weight=None, dual=False, fit_intercept=True,\n",
       "          intercept_scaling=1, max_iter=100, multi_class='warn',\n",
       "          n_jobs=None, penalty='l2', random_state=None, solver='warn',\n",
       "          tol=0.0001, verbose=0, warm_start=False),\n",
       "       fit_params=None, iid='warn', n_jobs=3,\n",
       "       param_grid={'penalty': ['l1', 'l2'], 'C': [0.001, 0.1, 1, 10]},\n",
       "       pre_dispatch='2*n_jobs', refit=True, return_train_score='warn',\n",
       "       scoring='recall', verbose=2)"
      ]
     },
     "execution_count": 420,
     "metadata": {},
     "output_type": "execute_result"
    }
   ],
   "source": [
    "param_grid = {\n",
    "    'penalty': ['l1', 'l2'],\n",
    "    'C': [0.001, 0.1, 1, 10]\n",
    "}\n",
    "# Create a based model\n",
    "logreg = LogisticRegression()\n",
    "# Instantiate the grid search model\n",
    "lr_grid_search = GridSearchCV(estimator = logreg, param_grid = param_grid, \n",
    "                          cv = 3, n_jobs = 3, verbose = 2, scoring = 'recall'\n",
    "                          )\n",
    "\n",
    "lr_grid_search.fit(X_train_scaled_deskewed, y_train)"
   ]
  },
  {
   "cell_type": "code",
   "execution_count": 33,
   "metadata": {},
   "outputs": [
    {
     "name": "stdout",
     "output_type": "stream",
     "text": [
      "Training Accuracy = 0.60\n",
      "Validation Accuracy = 0.60\n"
     ]
    }
   ],
   "source": [
    "pred = model_lr.predict(X_test_scaled)\n",
    "train_pred = model_lr.predict(X_train_scaled)\n",
    "print(\"Training Accuracy = {:.2f}\".format(accuracy_score(y_train, train_pred)))\n",
    "print(\"Validation Accuracy = {:.2f}\".format(accuracy_score(y_test, pred)))"
   ]
  },
  {
   "cell_type": "code",
   "execution_count": 423,
   "metadata": {},
   "outputs": [
    {
     "name": "stdout",
     "output_type": "stream",
     "text": [
      "Training Accuracy = 0.59\n",
      "Validation Accuracy = 0.59\n"
     ]
    }
   ],
   "source": [
    "best_lr = lr_grid_search.best_estimator_\n",
    "pred = best_lr.predict(X_test_scaled_deskewed)\n",
    "train_pred = best_lr.predict(X_train_scaled_deskewed)\n",
    "print(\"Training Accuracy = {:.2f}\".format(accuracy_score(y_train, train_pred)))\n",
    "print(\"Validation Accuracy = {:.2f}\".format(accuracy_score(y_test, pred)))"
   ]
  },
  {
   "cell_type": "code",
   "execution_count": 443,
   "metadata": {},
   "outputs": [
    {
     "data": {
      "text/plain": [
       "LogisticRegression(C=0.001, class_weight=None, dual=False, fit_intercept=True,\n",
       "          intercept_scaling=1, max_iter=100, multi_class='warn',\n",
       "          n_jobs=None, penalty='l2', random_state=None, solver='warn',\n",
       "          tol=0.0001, verbose=0, warm_start=False)"
      ]
     },
     "execution_count": 443,
     "metadata": {},
     "output_type": "execute_result"
    }
   ],
   "source": [
    "best_lr"
   ]
  },
  {
   "cell_type": "code",
   "execution_count": 35,
   "metadata": {},
   "outputs": [],
   "source": [
    "pred_proba_lr = model_lr.predict_log_proba(X_test_scaled)\n",
    "fpr_lr, tpr_lr, _ = roc_curve(y_test, pred_proba_lr[:, 1])\n",
    "area_lr = auc(fpr_lr, tpr_lr)"
   ]
  },
  {
   "cell_type": "code",
   "execution_count": 38,
   "metadata": {},
   "outputs": [
    {
     "data": {
      "image/png": "[encoded data removed]",
      "text/plain": [
       "<Figure size 432x288 with 1 Axes>"
      ]
     },
     "metadata": {
      "needs_background": "light"
     },
     "output_type": "display_data"
    }
   ],
   "source": [
    "lw = 2\n",
    "plt.plot(fpr_lr, tpr_lr, color='darkorange',\n",
    "          label='ROC curve (area = %0.2f)' % area_lr)\n",
    "plt.plot([0, 1], [0, 1], color='navy', lw=lw, linestyle='--')\n",
    "plt.xlim([0.0, 1.0])\n",
    "plt.ylim([0.0, 1.05])\n",
    "plt.xlabel('False Positive Rate')\n",
    "plt.ylabel('True Positive Rate')\n",
    "plt.title('ROC Curve Logistic Regression')\n",
    "plt.legend(loc=\"lower right\")\n",
    "plt.show()"
   ]
  },
  {
   "cell_type": "code",
   "execution_count": 39,
   "metadata": {},
   "outputs": [],
   "source": [
    "from sklearn.naive_bayes import GaussianNB\n",
    "gnb = GaussianNB()"
   ]
  },
  {
   "cell_type": "code",
   "execution_count": 428,
   "metadata": {},
   "outputs": [
    {
     "data": {
      "text/plain": [
       "0.4956"
      ]
     },
     "execution_count": 428,
     "metadata": {},
     "output_type": "execute_result"
    }
   ],
   "source": [
    "y_pred_nb = gnb.fit(X_train_scaled_deskewed, y_train).predict(X_test_scaled_deskewed)\n",
    "accuracy_score(y_test, y_pred_nb)"
   ]
  },
  {
   "cell_type": "code",
   "execution_count": 434,
   "metadata": {},
   "outputs": [
    {
     "data": {
      "image/png": "[encoded data removed]",
      "text/plain": [
       "<Figure size 432x288 with 1 Axes>"
      ]
     },
     "metadata": {
      "needs_background": "light"
     },
     "output_type": "display_data"
    }
   ],
   "source": [
    "lw = 2\n",
    "plt.plot(fpr_rf, tpr_rf, color='darkorange',\n",
    "          label='ROC curve RF (area = %0.2f)' % area_rf)\n",
    "plt.plot(fpr_lr, tpr_lr, color='green',\n",
    "          label='ROC curve LR (area = %0.2f)' % area_lr)\n",
    "plt.plot([0, 1], [0, 1], color='navy', lw=lw, linestyle='--')\n",
    "plt.xlim([0.0, 1.0])\n",
    "plt.ylim([0.0, 1.05])\n",
    "plt.xlabel('False Positive Rate')\n",
    "plt.ylabel('True Positive Rate')\n",
    "plt.title('Receiver operating characteristic')\n",
    "plt.legend(loc=\"lower right\")\n",
    "plt.show()"
   ]
  },
  {
   "cell_type": "code",
   "execution_count": 40,
   "metadata": {},
   "outputs": [
    {
     "data": {
      "text/plain": [
       "0.6639"
      ]
     },
     "execution_count": 40,
     "metadata": {},
     "output_type": "execute_result"
    }
   ],
   "source": [
    "from xgboost import XGBClassifier\n",
    "xgb = XGBClassifier()\n",
    "y_pred_nb = xgb.fit(X_train_scaled, y_train).predict(X_test_scaled)\n",
    "accuracy_score(y_test, y_pred_nb)"
   ]
  },
  {
   "cell_type": "code",
   "execution_count": 41,
   "metadata": {},
   "outputs": [],
   "source": [
    "pred_proba_xg = xgb.predict_proba(X_test_scaled)\n",
    "fpr_xg, tpr_xg, _ = roc_curve(y_test, pred_proba_xg[:, 1])\n",
    "area_xg = auc(fpr_xg, tpr_xg)"
   ]
  },
  {
   "cell_type": "code",
   "execution_count": 442,
   "metadata": {},
   "outputs": [
    {
     "name": "stdout",
     "output_type": "stream",
     "text": [
      "Fitting 3 folds for each of 108 candidates, totalling 324 fits\n"
     ]
    },
    {
     "name": "stderr",
     "output_type": "stream",
     "text": [
      "[Parallel(n_jobs=-1)]: Using backend LokyBackend with 8 concurrent workers.\n",
      "[Parallel(n_jobs=-1)]: Done  25 tasks      | elapsed:  3.2min\n"
     ]
    },
    {
     "ename": "KeyboardInterrupt",
     "evalue": "",
     "output_type": "error",
     "traceback": [
      "\u001b[0;31m---------------------------------------------------------------------------\u001b[0m",
      "\u001b[0;31mKeyboardInterrupt\u001b[0m                         Traceback (most recent call last)",
      "\u001b[0;32m<ipython-input-442-f63afa8651c6>\u001b[0m in \u001b[0;36m<module>\u001b[0;34m\u001b[0m\n\u001b[1;32m     11\u001b[0m                           )\n\u001b[1;32m     12\u001b[0m \u001b[0;34m\u001b[0m\u001b[0m\n\u001b[0;32m---> 13\u001b[0;31m \u001b[0mgrid_search_xgb\u001b[0m\u001b[0;34m.\u001b[0m\u001b[0mfit\u001b[0m\u001b[0;34m(\u001b[0m\u001b[0mX_train_scaled_deskewed\u001b[0m\u001b[0;34m,\u001b[0m \u001b[0my_train\u001b[0m\u001b[0;34m)\u001b[0m\u001b[0;34m\u001b[0m\u001b[0;34m\u001b[0m\u001b[0m\n\u001b[0m",
      "\u001b[0;32m/anaconda3/lib/python3.6/site-packages/sklearn/model_selection/_search.py\u001b[0m in \u001b[0;36mfit\u001b[0;34m(self, X, y, groups, **fit_params)\u001b[0m\n\u001b[1;32m    720\u001b[0m                 \u001b[0;32mreturn\u001b[0m \u001b[0mresults_container\u001b[0m\u001b[0;34m[\u001b[0m\u001b[0;36m0\u001b[0m\u001b[0;34m]\u001b[0m\u001b[0;34m\u001b[0m\u001b[0;34m\u001b[0m\u001b[0m\n\u001b[1;32m    721\u001b[0m \u001b[0;34m\u001b[0m\u001b[0m\n\u001b[0;32m--> 722\u001b[0;31m             \u001b[0mself\u001b[0m\u001b[0;34m.\u001b[0m\u001b[0m_run_search\u001b[0m\u001b[0;34m(\u001b[0m\u001b[0mevaluate_candidates\u001b[0m\u001b[0;34m)\u001b[0m\u001b[0;34m\u001b[0m\u001b[0;34m\u001b[0m\u001b[0m\n\u001b[0m\u001b[1;32m    723\u001b[0m \u001b[0;34m\u001b[0m\u001b[0m\n\u001b[1;32m    724\u001b[0m         \u001b[0mresults\u001b[0m \u001b[0;34m=\u001b[0m \u001b[0mresults_container\u001b[0m\u001b[0;34m[\u001b[0m\u001b[0;36m0\u001b[0m\u001b[0;34m]\u001b[0m\u001b[0;34m\u001b[0m\u001b[0;34m\u001b[0m\u001b[0m\n",
      "\u001b[0;32m/anaconda3/lib/python3.6/site-packages/sklearn/model_selection/_search.py\u001b[0m in \u001b[0;36m_run_search\u001b[0;34m(self, evaluate_candidates)\u001b[0m\n\u001b[1;32m   1189\u001b[0m     \u001b[0;32mdef\u001b[0m \u001b[0m_run_search\u001b[0m\u001b[0;34m(\u001b[0m\u001b[0mself\u001b[0m\u001b[0;34m,\u001b[0m \u001b[0mevaluate_candidates\u001b[0m\u001b[0;34m)\u001b[0m\u001b[0;34m:\u001b[0m\u001b[0;34m\u001b[0m\u001b[0;34m\u001b[0m\u001b[0m\n\u001b[1;32m   1190\u001b[0m         \u001b[0;34m\"\"\"Search all candidates in param_grid\"\"\"\u001b[0m\u001b[0;34m\u001b[0m\u001b[0;34m\u001b[0m\u001b[0m\n\u001b[0;32m-> 1191\u001b[0;31m         \u001b[0mevaluate_candidates\u001b[0m\u001b[0;34m(\u001b[0m\u001b[0mParameterGrid\u001b[0m\u001b[0;34m(\u001b[0m\u001b[0mself\u001b[0m\u001b[0;34m.\u001b[0m\u001b[0mparam_grid\u001b[0m\u001b[0;34m)\u001b[0m\u001b[0;34m)\u001b[0m\u001b[0;34m\u001b[0m\u001b[0;34m\u001b[0m\u001b[0m\n\u001b[0m\u001b[1;32m   1192\u001b[0m \u001b[0;34m\u001b[0m\u001b[0m\n\u001b[1;32m   1193\u001b[0m \u001b[0;34m\u001b[0m\u001b[0m\n",
      "\u001b[0;32m/anaconda3/lib/python3.6/site-packages/sklearn/model_selection/_search.py\u001b[0m in \u001b[0;36mevaluate_candidates\u001b[0;34m(candidate_params)\u001b[0m\n\u001b[1;32m    709\u001b[0m                                \u001b[0;32mfor\u001b[0m \u001b[0mparameters\u001b[0m\u001b[0;34m,\u001b[0m \u001b[0;34m(\u001b[0m\u001b[0mtrain\u001b[0m\u001b[0;34m,\u001b[0m \u001b[0mtest\u001b[0m\u001b[0;34m)\u001b[0m\u001b[0;34m\u001b[0m\u001b[0;34m\u001b[0m\u001b[0m\n\u001b[1;32m    710\u001b[0m                                in product(candidate_params,\n\u001b[0;32m--> 711\u001b[0;31m                                           cv.split(X, y, groups)))\n\u001b[0m\u001b[1;32m    712\u001b[0m \u001b[0;34m\u001b[0m\u001b[0m\n\u001b[1;32m    713\u001b[0m                 \u001b[0mall_candidate_params\u001b[0m\u001b[0;34m.\u001b[0m\u001b[0mextend\u001b[0m\u001b[0;34m(\u001b[0m\u001b[0mcandidate_params\u001b[0m\u001b[0;34m)\u001b[0m\u001b[0;34m\u001b[0m\u001b[0;34m\u001b[0m\u001b[0m\n",
      "\u001b[0;32m/anaconda3/lib/python3.6/site-packages/sklearn/externals/joblib/parallel.py\u001b[0m in \u001b[0;36m__call__\u001b[0;34m(self, iterable)\u001b[0m\n\u001b[1;32m    928\u001b[0m \u001b[0;34m\u001b[0m\u001b[0m\n\u001b[1;32m    929\u001b[0m             \u001b[0;32mwith\u001b[0m \u001b[0mself\u001b[0m\u001b[0;34m.\u001b[0m\u001b[0m_backend\u001b[0m\u001b[0;34m.\u001b[0m\u001b[0mretrieval_context\u001b[0m\u001b[0;34m(\u001b[0m\u001b[0;34m)\u001b[0m\u001b[0;34m:\u001b[0m\u001b[0;34m\u001b[0m\u001b[0;34m\u001b[0m\u001b[0m\n\u001b[0;32m--> 930\u001b[0;31m                 \u001b[0mself\u001b[0m\u001b[0;34m.\u001b[0m\u001b[0mretrieve\u001b[0m\u001b[0;34m(\u001b[0m\u001b[0;34m)\u001b[0m\u001b[0;34m\u001b[0m\u001b[0;34m\u001b[0m\u001b[0m\n\u001b[0m\u001b[1;32m    931\u001b[0m             \u001b[0;31m# Make sure that we get a last message telling us we are done\u001b[0m\u001b[0;34m\u001b[0m\u001b[0;34m\u001b[0m\u001b[0;34m\u001b[0m\u001b[0m\n\u001b[1;32m    932\u001b[0m             \u001b[0melapsed_time\u001b[0m \u001b[0;34m=\u001b[0m \u001b[0mtime\u001b[0m\u001b[0;34m.\u001b[0m\u001b[0mtime\u001b[0m\u001b[0;34m(\u001b[0m\u001b[0;34m)\u001b[0m \u001b[0;34m-\u001b[0m \u001b[0mself\u001b[0m\u001b[0;34m.\u001b[0m\u001b[0m_start_time\u001b[0m\u001b[0;34m\u001b[0m\u001b[0;34m\u001b[0m\u001b[0m\n",
      "\u001b[0;32m/anaconda3/lib/python3.6/site-packages/sklearn/externals/joblib/parallel.py\u001b[0m in \u001b[0;36mretrieve\u001b[0;34m(self)\u001b[0m\n\u001b[1;32m    831\u001b[0m             \u001b[0;32mtry\u001b[0m\u001b[0;34m:\u001b[0m\u001b[0;34m\u001b[0m\u001b[0;34m\u001b[0m\u001b[0m\n\u001b[1;32m    832\u001b[0m                 \u001b[0;32mif\u001b[0m \u001b[0mgetattr\u001b[0m\u001b[0;34m(\u001b[0m\u001b[0mself\u001b[0m\u001b[0;34m.\u001b[0m\u001b[0m_backend\u001b[0m\u001b[0;34m,\u001b[0m \u001b[0;34m'supports_timeout'\u001b[0m\u001b[0;34m,\u001b[0m \u001b[0;32mFalse\u001b[0m\u001b[0;34m)\u001b[0m\u001b[0;34m:\u001b[0m\u001b[0;34m\u001b[0m\u001b[0;34m\u001b[0m\u001b[0m\n\u001b[0;32m--> 833\u001b[0;31m                     \u001b[0mself\u001b[0m\u001b[0;34m.\u001b[0m\u001b[0m_output\u001b[0m\u001b[0;34m.\u001b[0m\u001b[0mextend\u001b[0m\u001b[0;34m(\u001b[0m\u001b[0mjob\u001b[0m\u001b[0;34m.\u001b[0m\u001b[0mget\u001b[0m\u001b[0;34m(\u001b[0m\u001b[0mtimeout\u001b[0m\u001b[0;34m=\u001b[0m\u001b[0mself\u001b[0m\u001b[0;34m.\u001b[0m\u001b[0mtimeout\u001b[0m\u001b[0;34m)\u001b[0m\u001b[0;34m)\u001b[0m\u001b[0;34m\u001b[0m\u001b[0;34m\u001b[0m\u001b[0m\n\u001b[0m\u001b[1;32m    834\u001b[0m                 \u001b[0;32melse\u001b[0m\u001b[0;34m:\u001b[0m\u001b[0;34m\u001b[0m\u001b[0;34m\u001b[0m\u001b[0m\n\u001b[1;32m    835\u001b[0m                     \u001b[0mself\u001b[0m\u001b[0;34m.\u001b[0m\u001b[0m_output\u001b[0m\u001b[0;34m.\u001b[0m\u001b[0mextend\u001b[0m\u001b[0;34m(\u001b[0m\u001b[0mjob\u001b[0m\u001b[0;34m.\u001b[0m\u001b[0mget\u001b[0m\u001b[0;34m(\u001b[0m\u001b[0;34m)\u001b[0m\u001b[0;34m)\u001b[0m\u001b[0;34m\u001b[0m\u001b[0;34m\u001b[0m\u001b[0m\n",
      "\u001b[0;32m/anaconda3/lib/python3.6/site-packages/sklearn/externals/joblib/_parallel_backends.py\u001b[0m in \u001b[0;36mwrap_future_result\u001b[0;34m(future, timeout)\u001b[0m\n\u001b[1;32m    519\u001b[0m         AsyncResults.get from multiprocessing.\"\"\"\n\u001b[1;32m    520\u001b[0m         \u001b[0;32mtry\u001b[0m\u001b[0;34m:\u001b[0m\u001b[0;34m\u001b[0m\u001b[0;34m\u001b[0m\u001b[0m\n\u001b[0;32m--> 521\u001b[0;31m             \u001b[0;32mreturn\u001b[0m \u001b[0mfuture\u001b[0m\u001b[0;34m.\u001b[0m\u001b[0mresult\u001b[0m\u001b[0;34m(\u001b[0m\u001b[0mtimeout\u001b[0m\u001b[0;34m=\u001b[0m\u001b[0mtimeout\u001b[0m\u001b[0;34m)\u001b[0m\u001b[0;34m\u001b[0m\u001b[0;34m\u001b[0m\u001b[0m\n\u001b[0m\u001b[1;32m    522\u001b[0m         \u001b[0;32mexcept\u001b[0m \u001b[0mLokyTimeoutError\u001b[0m\u001b[0;34m:\u001b[0m\u001b[0;34m\u001b[0m\u001b[0;34m\u001b[0m\u001b[0m\n\u001b[1;32m    523\u001b[0m             \u001b[0;32mraise\u001b[0m \u001b[0mTimeoutError\u001b[0m\u001b[0;34m(\u001b[0m\u001b[0;34m)\u001b[0m\u001b[0;34m\u001b[0m\u001b[0;34m\u001b[0m\u001b[0m\n",
      "\u001b[0;32m/anaconda3/lib/python3.6/concurrent/futures/_base.py\u001b[0m in \u001b[0;36mresult\u001b[0;34m(self, timeout)\u001b[0m\n\u001b[1;32m    425\u001b[0m                 \u001b[0;32mreturn\u001b[0m \u001b[0mself\u001b[0m\u001b[0;34m.\u001b[0m\u001b[0m__get_result\u001b[0m\u001b[0;34m(\u001b[0m\u001b[0;34m)\u001b[0m\u001b[0;34m\u001b[0m\u001b[0;34m\u001b[0m\u001b[0m\n\u001b[1;32m    426\u001b[0m \u001b[0;34m\u001b[0m\u001b[0m\n\u001b[0;32m--> 427\u001b[0;31m             \u001b[0mself\u001b[0m\u001b[0;34m.\u001b[0m\u001b[0m_condition\u001b[0m\u001b[0;34m.\u001b[0m\u001b[0mwait\u001b[0m\u001b[0;34m(\u001b[0m\u001b[0mtimeout\u001b[0m\u001b[0;34m)\u001b[0m\u001b[0;34m\u001b[0m\u001b[0;34m\u001b[0m\u001b[0m\n\u001b[0m\u001b[1;32m    428\u001b[0m \u001b[0;34m\u001b[0m\u001b[0m\n\u001b[1;32m    429\u001b[0m             \u001b[0;32mif\u001b[0m \u001b[0mself\u001b[0m\u001b[0;34m.\u001b[0m\u001b[0m_state\u001b[0m \u001b[0;32min\u001b[0m \u001b[0;34m[\u001b[0m\u001b[0mCANCELLED\u001b[0m\u001b[0;34m,\u001b[0m \u001b[0mCANCELLED_AND_NOTIFIED\u001b[0m\u001b[0;34m]\u001b[0m\u001b[0;34m:\u001b[0m\u001b[0;34m\u001b[0m\u001b[0;34m\u001b[0m\u001b[0m\n",
      "\u001b[0;32m/anaconda3/lib/python3.6/threading.py\u001b[0m in \u001b[0;36mwait\u001b[0;34m(self, timeout)\u001b[0m\n\u001b[1;32m    293\u001b[0m         \u001b[0;32mtry\u001b[0m\u001b[0;34m:\u001b[0m    \u001b[0;31m# restore state no matter what (e.g., KeyboardInterrupt)\u001b[0m\u001b[0;34m\u001b[0m\u001b[0;34m\u001b[0m\u001b[0m\n\u001b[1;32m    294\u001b[0m             \u001b[0;32mif\u001b[0m \u001b[0mtimeout\u001b[0m \u001b[0;32mis\u001b[0m \u001b[0;32mNone\u001b[0m\u001b[0;34m:\u001b[0m\u001b[0;34m\u001b[0m\u001b[0;34m\u001b[0m\u001b[0m\n\u001b[0;32m--> 295\u001b[0;31m                 \u001b[0mwaiter\u001b[0m\u001b[0;34m.\u001b[0m\u001b[0macquire\u001b[0m\u001b[0;34m(\u001b[0m\u001b[0;34m)\u001b[0m\u001b[0;34m\u001b[0m\u001b[0;34m\u001b[0m\u001b[0m\n\u001b[0m\u001b[1;32m    296\u001b[0m                 \u001b[0mgotit\u001b[0m \u001b[0;34m=\u001b[0m \u001b[0;32mTrue\u001b[0m\u001b[0;34m\u001b[0m\u001b[0;34m\u001b[0m\u001b[0m\n\u001b[1;32m    297\u001b[0m             \u001b[0;32melse\u001b[0m\u001b[0;34m:\u001b[0m\u001b[0;34m\u001b[0m\u001b[0;34m\u001b[0m\u001b[0m\n",
      "\u001b[0;31mKeyboardInterrupt\u001b[0m: "
     ]
    }
   ],
   "source": [
    "param_grid = {\n",
    "    'eta': [0.01, 0.1, 1],\n",
    "    'max_depth': [2, 4, 8, 16],\n",
    "    'lambda': [0.1, 1, 5],\n",
    "    'min_child_weight': [1, 5, 10]\n",
    "}\n",
    "# Create a based model\n",
    "# Instantiate the grid search model\n",
    "grid_search_xgb = GridSearchCV(estimator = xgb, param_grid = param_grid, \n",
    "                          cv = 3, n_jobs = -1, verbose = 2, scoring = 'recall'\n",
    "                          )\n",
    "\n",
    "grid_search_xgb.fit(X_train_scaled_deskewed, y_train)"
   ]
  },
  {
   "cell_type": "code",
   "execution_count": 43,
   "metadata": {},
   "outputs": [
    {
     "data": {
      "image/png": "[encoded data removed]",
      "text/plain": [
       "<Figure size 432x288 with 1 Axes>"
      ]
     },
     "metadata": {
      "needs_background": "light"
     },
     "output_type": "display_data"
    }
   ],
   "source": [
    "lw = 2\n",
    "plt.plot(fpr_rf, tpr_rf, color='darkorange',\n",
    "          label='ROC curve RF (area = %0.2f)' % area_rf)\n",
    "plt.plot(fpr_lr, tpr_lr, color='green',\n",
    "          label='ROC curve LR (area = %0.2f)' % area_lr)\n",
    "plt.plot(fpr_xg, tpr_xg, color='red',\n",
    "          label='ROC curve XG (area = %0.2f)' % area_xg)\n",
    "plt.plot([0, 1], [0, 1], color='navy', lw=lw, linestyle='--')\n",
    "plt.xlim([0.0, 1.0])\n",
    "plt.ylim([0.0, 1.05])\n",
    "plt.xlabel('False Positive Rate')\n",
    "plt.ylabel('True Positive Rate')\n",
    "plt.title('Receiver operating characteristic')\n",
    "plt.legend(loc=\"lower right\")\n",
    "plt.savefig('Model_comparison.png')\n",
    "plt.show()"
   ]
  },
  {
   "cell_type": "markdown",
   "metadata": {},
   "source": [
    "<h2> Test Data PreProcessing: Ensure test data runs through same pre-processing pipeline as training data"
   ]
  },
  {
   "cell_type": "markdown",
   "metadata": {},
   "source": [
    "<h5> Pickle the colnames_to_keep, Means of the training data columns, the scaler, and columns_to_skew"
   ]
  },
  {
   "cell_type": "code",
   "execution_count": 45,
   "metadata": {},
   "outputs": [],
   "source": [
    "import pickle\n",
    "to_pickle = [retained_columns, means, scaler]\n",
    "with open('preprocessing_Bosch.pickle', 'wb') as f1:\n",
    "    pickle.dump(to_pickle, f1)"
   ]
  },
  {
   "cell_type": "code",
   "execution_count": 46,
   "metadata": {},
   "outputs": [],
   "source": [
    "with open('preprocessing_Bosch.pickle', 'rb') as f1:\n",
    "    params = pickle.load(f1)"
   ]
  },
  {
   "cell_type": "code",
   "execution_count": 50,
   "metadata": {},
   "outputs": [],
   "source": [
    "#test_data = pd.read_csv('FInal_Numeric_Datsets/shuffled_train_numeric_test.csv', usecols = ['Response'])"
   ]
  },
  {
   "cell_type": "code",
   "execution_count": 52,
   "metadata": {},
   "outputs": [],
   "source": [
    "#test_data"
   ]
  },
  {
   "cell_type": "code",
   "execution_count": 53,
   "metadata": {},
   "outputs": [],
   "source": [
    "def preprocess_dataset(datapath, colnames_to_keep, means, scaler):\n",
    "    ''' Preprocess any new data to match the training dataset'''\n",
    "    # Just get the required columns\n",
    "    \n",
    "    dataset = pd.read_csv(datapath)\n",
    "    labels = dataset['Response']\n",
    "    dataset = dataset[colnames_to_keep]\n",
    "    \n",
    "    \n",
    "    print(dataset.shape)\n",
    "    \n",
    "    #for column in list(dataset.columns):\n",
    "    #    dataset[column] = dataset[column].astype('float32')\n",
    "\n",
    "    #Impute with means\n",
    "    dataset = dataset.fillna(means)\n",
    "    \n",
    "    #Scale\n",
    "    scaled_dataset = pd.DataFrame(scaler.transform(dataset))\n",
    "    \n",
    "    #DeSkew\n",
    "    #for colname in scaled_dataset.columns:\n",
    "    #    if colname in colnames_to_skew:\n",
    "    #        scaled_dataset[colname] = np.log(scaled_dataset[colname]+ 1)\n",
    "    #    else:\n",
    "    #        pass\n",
    "    \n",
    "    return scaled_dataset, labels    "
   ]
  },
  {
   "cell_type": "code",
   "execution_count": 54,
   "metadata": {},
   "outputs": [
    {
     "name": "stdout",
     "output_type": "stream",
     "text": [
      "(200000, 156)\n"
     ]
    }
   ],
   "source": [
    "test_data = preprocess_dataset('FInal_Numeric_Datsets/shuffled_train_numeric_test.csv', list(params[0]), params[1], params[2])"
   ]
  },
  {
   "cell_type": "code",
   "execution_count": 55,
   "metadata": {},
   "outputs": [
    {
     "name": "stdout",
     "output_type": "stream",
     "text": [
      "Test Accuracy = 0.57\n"
     ]
    }
   ],
   "source": [
    "lr_test_pred = model_lr.predict(test_data[0])\n",
    "print(\"Test Accuracy = {:.2f}\".format(accuracy_score(test_data[1], lr_test_pred)))"
   ]
  },
  {
   "cell_type": "code",
   "execution_count": 56,
   "metadata": {},
   "outputs": [
    {
     "name": "stdout",
     "output_type": "stream",
     "text": [
      "Test Accuracy = 0.90\n"
     ]
    }
   ],
   "source": [
    "rf_test_pred = model_rf.predict(test_data[0])\n",
    "print(\"Test Accuracy = {:.2f}\".format(accuracy_score(test_data[1], rf_test_pred)))"
   ]
  },
  {
   "cell_type": "code",
   "execution_count": 60,
   "metadata": {},
   "outputs": [],
   "source": [
    "#xgb_test_pred = xgb.predict(test_data[0])\n",
    "#print(\"Test Accuracy = {:.2f}\".format(accuracy_score(test_data[1], xgb_test_pred)))"
   ]
  },
  {
   "cell_type": "code",
   "execution_count": 80,
   "metadata": {},
   "outputs": [],
   "source": [
    "cfmat = confusion_matrix(test_data[1], rf_test_pred)"
   ]
  },
  {
   "cell_type": "code",
   "execution_count": 76,
   "metadata": {},
   "outputs": [
    {
     "data": {
      "text/plain": [
       "array([[8.9641e-01, 9.7480e-02],\n",
       "       [5.4000e-04, 5.5700e-03]])"
      ]
     },
     "execution_count": 76,
     "metadata": {},
     "output_type": "execute_result"
    }
   ],
   "source": [
    "cfmat"
   ]
  },
  {
   "cell_type": "code",
   "execution_count": 83,
   "metadata": {},
   "outputs": [
    {
     "data": {
      "image/png": "[encoded data removed]",
      "text/plain": [
       "<Figure size 720x504 with 2 Axes>"
      ]
     },
     "metadata": {
      "needs_background": "light"
     },
     "output_type": "display_data"
    }
   ],
   "source": [
    "class_names = ['Non Defective', 'Faulty']\n",
    "fontsize = 14\n",
    "df_cm = pd.DataFrame(\n",
    "        cfmat, index=class_names, columns=class_names, \n",
    "    )\n",
    "fig = plt.figure(figsize = (10,7))\n",
    "heatmap = sns.heatmap(df_cm, annot=True,\n",
    "                     fmt = 'd')\n",
    "heatmap.yaxis.set_ticklabels(heatmap.yaxis.get_ticklabels(), rotation=0, ha='right', fontsize=fontsize)\n",
    "heatmap.xaxis.set_ticklabels(heatmap.xaxis.get_ticklabels(), rotation=45, ha='right', fontsize=fontsize)\n",
    "plt.ylabel('True label')\n",
    "plt.xlabel('Predicted label')\n",
    "plt.savefig('confusion_matrix.png')\n",
    "plt.show()"
   ]
  },
  {
   "cell_type": "code",
   "execution_count": 63,
   "metadata": {},
   "outputs": [
    {
     "data": {
      "text/plain": [
       "(0.911620294599018, 0.054051431344007764)"
      ]
     },
     "execution_count": 63,
     "metadata": {},
     "output_type": "execute_result"
    }
   ],
   "source": [
    "recall_score(test_data[1], rf_test_pred), precision_score(test_data[1], rf_test_pred)"
   ]
  },
  {
   "cell_type": "code",
   "execution_count": 66,
   "metadata": {},
   "outputs": [
    {
     "data": {
      "text/plain": [
       "1222"
      ]
     },
     "execution_count": 66,
     "metadata": {},
     "output_type": "execute_result"
    }
   ],
   "source": [
    "1114+108"
   ]
  },
  {
   "cell_type": "code",
   "execution_count": 64,
   "metadata": {},
   "outputs": [
    {
     "data": {
      "text/plain": [
       "<matplotlib.axes._subplots.AxesSubplot at 0x1693ac358>"
      ]
     },
     "execution_count": 64,
     "metadata": {},
     "output_type": "execute_result"
    },
    {
     "data": {
      "image/png": "[encoded data removed]",
      "text/plain": [
       "<Figure size 432x288 with 1 Axes>"
      ]
     },
     "metadata": {
      "needs_background": "light"
     },
     "output_type": "display_data"
    }
   ],
   "source": [
    "sns.countplot(test_data[1])"
   ]
  },
  {
   "cell_type": "markdown",
   "metadata": {},
   "source": [
    "<h3> To get better accuracy, we need more data. Let's take the entire dataset and write a pipeline to randomly generate a 10 files of size 50K each with 25K positive and 25K negative examples."
   ]
  },
  {
   "cell_type": "code",
   "execution_count": 381,
   "metadata": {},
   "outputs": [],
   "source": [
    "#import os\n",
    "#from sklearn.utils import resample, shuffle\n",
    "#data_path = os.getcwd() + '/train_data/shuffled_train_numeric.csv'\n",
    "#def get_sharded_datasets(full_data_path):\n",
    "#    chunksize = 100000\n",
    "#    for i, chunk in enumerate(pd.read_csv(data_path, chunksize=chunksize)):\n",
    "#            temp_df = chunk[chunk['Response'] == 1]\n",
    "#            neg_df = chunk[chunk['Response']==0][:25000]\n",
    "#            pos_df = resample(temp_df, n_samples=25000,random_state=42,replace=True)\n",
    "#            full_df = shuffle(pd.concat([neg_df, pos_df]), random_state = 42)\n",
    "#            print(\"Chunk Number: {}\".format(i))\n",
    "#            full_df.to_csv(os.path.dirname(full_data_path) + \"/upsampled_data_50k_{}.csv\".format(i))\n",
    "#    return print(\"Done\")   "
   ]
  },
  {
   "cell_type": "code",
   "execution_count": 1,
   "metadata": {},
   "outputs": [],
   "source": [
    "#os.path.dirname(data_path) + \"/upsampled_data_50k_{}.csv\".format(1)\n",
    "#get_sharded_datasets(data_path)"
   ]
  },
  {
   "cell_type": "code",
   "execution_count": null,
   "metadata": {},
   "outputs": [],
   "source": []
  }
 ],
 "metadata": {
  "kernelspec": {
   "display_name": "Python 3",
   "language": "python",
   "name": "python3"
  },
  "language_info": {
   "codemirror_mode": {
    "name": "ipython",
    "version": 3
   },
   "file_extension": ".py",
   "mimetype": "text/x-python",
   "name": "python",
   "nbconvert_exporter": "python",
   "pygments_lexer": "ipython3",
   "version": "3.6.7"
  }
 },
 "nbformat": 4,
 "nbformat_minor": 2
}
